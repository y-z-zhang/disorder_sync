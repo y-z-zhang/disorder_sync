{
  "cells": [
    {
      "cell_type": "code",
      "source": [
        "#"
      ],
      "outputs": [],
      "execution_count": null,
      "metadata": {
        "collapsed": true,
        "jupyter": {
          "source_hidden": false,
          "outputs_hidden": false
        },
        "nteract": {
          "transient": {
            "deleting": false
          }
        }
      }
    },
    {
      "cell_type": "code",
      "source": [
        "from scipy.signal import hilbert, find_peaks\n",
        "import matplotlib.pyplot as plt\n",
        "import numpy as np\n",
        "import matplotlib\n",
        "from matplotlib import rc\n",
        "#matplotlib.use('PDF')\n",
        "rc('text', usetex=True)\n",
        "\n",
        "#"
      ],
      "outputs": [],
      "execution_count": null,
      "metadata": {
        "collapsed": true,
        "jupyter": {
          "source_hidden": false,
          "outputs_hidden": false
        },
        "nteract": {
          "transient": {
            "deleting": false
          }
        }
      }
    },
    {
      "cell_type": "code",
      "source": [
        "# These are the \"Tableau 20\" colors as RGB.\n",
        "tableau20 = [(31, 119, 180), (174, 199, 232), (255, 127, 14), (255, 187, 120),\n",
        "             (44, 160, 44), (152, 223, 138), (214, 39, 40), (255, 152, 150),\n",
        "             (148, 103, 189), (197, 176, 213), (140, 86, 75), (196, 156, 148),\n",
        "             (227, 119, 194), (247, 182, 210), (127, 127, 127), (199, 199, 199),\n",
        "             (188, 189, 34), (219, 219, 141), (23, 190, 207), (158, 218, 229)]\n",
        "\n",
        "# Scale the RGB values to the [0, 1] range, which is the format matplotlib accepts.\n",
        "for i in range(len(tableau20)):\n",
        "    r, g, b = tableau20[i]\n",
        "    tableau20[i] = (r / 255., g / 255., b / 255.)\n",
        "\n",
        "#"
      ],
      "outputs": [],
      "execution_count": null,
      "metadata": {
        "collapsed": true,
        "jupyter": {
          "source_hidden": false,
          "outputs_hidden": false
        },
        "nteract": {
          "transient": {
            "deleting": false
          }
        }
      }
    },
    {
      "cell_type": "code",
      "source": [
        "n = 16  # number of oscillators\n",
        "m = 8   # number of experiments\n",
        "\n",
        "# measured time series for coupled oscillators (600 seconds of data for each time series)\n",
        "data = np.zeros((m, 120480, n))\n",
        "data[0, :, :] = np.loadtxt('data/oc091319_8.txt')\n",
        "data[1, :, :] = np.loadtxt('data/oc110819_14.txt')\n",
        "data[2, :, :] = np.loadtxt('data/oc091319_10.txt')\n",
        "data[3, :, :] = np.loadtxt('data/oc091319_18.txt')\n",
        "data[4, :, :] = np.loadtxt('data/oc091319_24.txt')\n",
        "data[5, :, :] = np.loadtxt('data/oc111119_20.txt')\n",
        "data[6, :, :] = np.loadtxt('data/oc111119_17.txt')\n",
        "data[7, :, :] = np.loadtxt('data/oc091319_12.txt')\n",
        "\n",
        "\n",
        "#"
      ],
      "outputs": [],
      "execution_count": null,
      "metadata": {
        "collapsed": true,
        "jupyter": {
          "source_hidden": false,
          "outputs_hidden": false
        },
        "nteract": {
          "transient": {
            "deleting": false
          }
        }
      }
    },
    {
      "cell_type": "markdown",
      "source": [
        "Calculate the time-averaged synchronization error of coupled oscillators for different heterogeneity\n",
        "\n"
      ],
      "metadata": {
        "nteract": {
          "transient": {
            "deleting": false
          }
        }
      }
    },
    {
      "cell_type": "code",
      "source": [
        "# nominal oscillator heterogeneity introduced by setting the resistance of each oscillator to a different value\n",
        "sigma = [0, .035, .07, .1, .13, .16, .19, .22]\n",
        "\n",
        "# time-averaged synchronization error (averaged over the last 200 seconds of data for each experiment)\n",
        "error = np.zeros(m)\n",
        "for i in range(m):\n",
        "    error[i] = np.mean(np.std(data[i, 80000:, :], axis=1))\n",
        "\n",
        "\n",
        "#"
      ],
      "outputs": [],
      "execution_count": null,
      "metadata": {
        "collapsed": true,
        "jupyter": {
          "source_hidden": false,
          "outputs_hidden": false
        },
        "nteract": {
          "transient": {
            "deleting": false
          }
        }
      }
    },
    {
      "cell_type": "markdown",
      "source": [
        "Plot time-averaged synchronization error $⟨e⟩$ as a function of the nominal oscillator heterogeneity $\\sigma$\n",
        "\n"
      ],
      "metadata": {
        "nteract": {
          "transient": {
            "deleting": false
          }
        }
      }
    },
    {
      "cell_type": "code",
      "source": [
        "fig = plt.figure()\n",
        "\n",
        "ax = plt.subplot(111)\n",
        "for axis in ['top', 'right', 'bottom', 'left']:\n",
        "    ax.spines[axis].set_linewidth(2)\n",
        "\n",
        "fig.set_size_inches(9, 8)\n",
        "plt.xticks(fontsize=35)\n",
        "plt.yticks(fontsize=35)\n",
        "plt.xlabel(r'$\\sigma$', fontsize=40)\n",
        "plt.ylabel(r'$\\langle e \\rangle$', fontsize=40)\n",
        "\n",
        "plt.plot(sigma, error, marker='o', ms=35, ls='none', c=tableau20[8])\n",
        "\n",
        "plt.gca().tick_params(axis='y', pad=5, size=10, width=2)\n",
        "plt.gca().tick_params(axis='x', pad=5, size=10, width=2)\n",
        "plt.xticks([0, .1, .2])\n",
        "plt.yticks([.01, .04, .07])\n",
        "\n",
        "fig.set_tight_layout(True)\n",
        "plt.savefig('error.pdf')"
      ],
      "outputs": [],
      "execution_count": null,
      "metadata": {
        "collapsed": true,
        "jupyter": {
          "source_hidden": false,
          "outputs_hidden": false
        },
        "nteract": {
          "transient": {
            "deleting": false
          }
        }
      }
    }
  ],
  "metadata": {
    "kernelspec": {
      "argv": [
        "/Users/yuanzhao/opt/anaconda3/bin/python",
        "-m",
        "ipykernel_launcher",
        "-f",
        "{connection_file}"
      ],
      "display_name": "Python 3",
      "language": "python",
      "name": "python3"
    }
  },
  "nbformat": 4,
  "nbformat_minor": 0
}